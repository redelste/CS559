{
 "cells": [
  {
   "cell_type": "markdown",
   "metadata": {},
   "source": [
    "# Part 1: Maximum-Likelihood Estimation "
   ]
  },
  {
   "cell_type": "markdown",
   "metadata": {},
   "source": [
    "### Get Classes and Dat Set"
   ]
  },
  {
   "cell_type": "code",
   "execution_count": 1010,
   "metadata": {
    "scrolled": true
   },
   "outputs": [],
   "source": [
    "import numpy as np\n",
    "import math\n",
    "from numpy import matrix\n",
    "from sklearn.neighbors import KNeighborsClassifier\n",
    "from sklearn.neighbors import KDTree\n",
    "\n",
    "data = open(\"data.txt\",\"r\") #data from txt file\n",
    "dataArr = np.array([], dtype = float) #should have all data from data.txt in array form.\n",
    "arr = []\n",
    "for element in data:\n",
    "    for i in element.replace(\"\\n\", \"\").split(\",\"):\n",
    "        arr.append(float(i))\n",
    "    dataArr = np.append(dataArr, arr)\n",
    "    arr =[]\n",
    "\n",
    "testArr = np.reshape(dataArr,(-1, 9))\n",
    "#get required attributes 2-4\n",
    "reqCols = testArr[:,[1,2,3,8]] #should have required columns from data\n",
    "\n",
    "# # print(reqCols)\n",
    "#do they have it, or do they not.\n",
    "class0 = []\n",
    "labels = []\n",
    "class1 = []\n",
    "for i in reqCols:\n",
    "#     print(type(i[3]))\n",
    "    if i[3] == 0:\n",
    "        labels.append(np.array(i[-1]))\n",
    "        class0.append(np.array(i[:3]))\n",
    "    elif i[3] == 1:\n",
    "        labels.append(np.array(i[-1]))\n",
    "        class1.append(np.array(i[:3]))\n"
   ]
  },
  {
   "cell_type": "code",
   "execution_count": 1011,
   "metadata": {},
   "outputs": [
    {
     "data": {
      "text/html": [
       "<div>\n",
       "<style scoped>\n",
       "    .dataframe tbody tr th:only-of-type {\n",
       "        vertical-align: middle;\n",
       "    }\n",
       "\n",
       "    .dataframe tbody tr th {\n",
       "        vertical-align: top;\n",
       "    }\n",
       "\n",
       "    .dataframe thead th {\n",
       "        text-align: right;\n",
       "    }\n",
       "</style>\n",
       "<table border=\"1\" class=\"dataframe\">\n",
       "  <thead>\n",
       "    <tr style=\"text-align: right;\">\n",
       "      <th></th>\n",
       "      <th>6</th>\n",
       "      <th>148</th>\n",
       "      <th>72</th>\n",
       "      <th>35</th>\n",
       "      <th>0</th>\n",
       "      <th>33.6</th>\n",
       "      <th>0.627</th>\n",
       "      <th>50</th>\n",
       "      <th>1</th>\n",
       "    </tr>\n",
       "  </thead>\n",
       "  <tbody>\n",
       "    <tr>\n",
       "      <th>0</th>\n",
       "      <td>1</td>\n",
       "      <td>85</td>\n",
       "      <td>66</td>\n",
       "      <td>29</td>\n",
       "      <td>0</td>\n",
       "      <td>26.6</td>\n",
       "      <td>0.351</td>\n",
       "      <td>31</td>\n",
       "      <td>0</td>\n",
       "    </tr>\n",
       "    <tr>\n",
       "      <th>1</th>\n",
       "      <td>8</td>\n",
       "      <td>183</td>\n",
       "      <td>64</td>\n",
       "      <td>0</td>\n",
       "      <td>0</td>\n",
       "      <td>23.3</td>\n",
       "      <td>0.672</td>\n",
       "      <td>32</td>\n",
       "      <td>1</td>\n",
       "    </tr>\n",
       "    <tr>\n",
       "      <th>2</th>\n",
       "      <td>1</td>\n",
       "      <td>89</td>\n",
       "      <td>66</td>\n",
       "      <td>23</td>\n",
       "      <td>94</td>\n",
       "      <td>28.1</td>\n",
       "      <td>0.167</td>\n",
       "      <td>21</td>\n",
       "      <td>0</td>\n",
       "    </tr>\n",
       "    <tr>\n",
       "      <th>3</th>\n",
       "      <td>0</td>\n",
       "      <td>137</td>\n",
       "      <td>40</td>\n",
       "      <td>35</td>\n",
       "      <td>168</td>\n",
       "      <td>43.1</td>\n",
       "      <td>2.288</td>\n",
       "      <td>33</td>\n",
       "      <td>1</td>\n",
       "    </tr>\n",
       "    <tr>\n",
       "      <th>4</th>\n",
       "      <td>5</td>\n",
       "      <td>116</td>\n",
       "      <td>74</td>\n",
       "      <td>0</td>\n",
       "      <td>0</td>\n",
       "      <td>25.6</td>\n",
       "      <td>0.201</td>\n",
       "      <td>30</td>\n",
       "      <td>0</td>\n",
       "    </tr>\n",
       "  </tbody>\n",
       "</table>\n",
       "</div>"
      ],
      "text/plain": [
       "   6  148  72  35    0  33.6  0.627  50  1\n",
       "0  1   85  66  29    0  26.6  0.351  31  0\n",
       "1  8  183  64   0    0  23.3  0.672  32  1\n",
       "2  1   89  66  23   94  28.1  0.167  21  0\n",
       "3  0  137  40  35  168  43.1  2.288  33  1\n",
       "4  5  116  74   0    0  25.6  0.201  30  0"
      ]
     },
     "execution_count": 1011,
     "metadata": {},
     "output_type": "execute_result"
    }
   ],
   "source": [
    "import pandas as pd\n",
    "dd = pd.read_csv(\"data.txt\")\n",
    "dd.head()"
   ]
  },
  {
   "cell_type": "markdown",
   "metadata": {},
   "source": [
    "###  Calculations for Mean, Cov, Std"
   ]
  },
  {
   "cell_type": "code",
   "execution_count": 1012,
   "metadata": {
    "scrolled": true
   },
   "outputs": [],
   "source": [
    "#train split 0 / 1\n",
    "#test has both \n",
    "# #------------------------------------\n",
    "# reqColsArr = np.asarray(reqCols) #unsplit appart array of all required rows and classifier \n",
    "\n",
    "# # total data split half and half\n",
    "\n",
    "reqColTrain = reqCols[0:384]\n",
    "reqColTest = reqCols[384:]\n",
    "\n",
    "\n",
    "coltrain1 = reqColTrain[reqColTrain[:,-1]==1]\n",
    "coltrain0 = reqColTrain[reqColTrain[:,-1]==0]\n",
    "\n",
    "train_features = reqColTrain[:,:3]\n",
    "test_features = reqColTest[:,:3]\n",
    "test_labels = reqColTest[:,-1]\n",
    "\n",
    "\n",
    "\n",
    "mu1 = np.mean(coltrain1[:,:3], axis=0).reshape(3,1)\n",
    "mu0 = np.mean(coltrain0[:,:3], axis=0).reshape(3,1)\n",
    "covar0 = np.cov(coltrain0[:,:3].T)\n",
    "covar1 = np.cov(coltrain1[:,:3].T)\n",
    "std0 = np.std(coltrain0[:,:3].T)\n",
    "std1 = np.std(coltrain1[:,:3].T)\n",
    "\n",
    "freq0 = len(coltrain0) / len(reqColTrain)\n",
    "freq1 = len(coltrain1) / len(reqColTrain)\n"
   ]
  },
  {
   "cell_type": "markdown",
   "metadata": {},
   "source": [
    "## Maximum-Liklihood Calculations"
   ]
  },
  {
   "cell_type": "code",
   "execution_count": 1013,
   "metadata": {
    "scrolled": true
   },
   "outputs": [],
   "source": [
    "def mvg(mu, cov, x):\n",
    "    p1 = 1 / ( ((2* np.pi)**(len(mu)/2)) * (np.linalg.det(cov)**(1/2)) )\n",
    "    p2 = np.exp((-1/2) * (np.matmul(np.matmul((x-mu).T[0],np.linalg.inv(cov)),(x-mu))))\n",
    "    prob = p1 * p2\n",
    "    return prob"
   ]
  },
  {
   "cell_type": "code",
   "execution_count": 1014,
   "metadata": {
    "scrolled": true
   },
   "outputs": [
    {
     "data": {
      "text/plain": [
       "[0.7161458333333334,\n",
       " 0.6848958333333334,\n",
       " 0.6979166666666666,\n",
       " 0.7317708333333334,\n",
       " 0.7239583333333334,\n",
       " 0.703125,\n",
       " 0.7265625,\n",
       " 0.7161458333333334,\n",
       " 0.7213541666666666,\n",
       " 0.7135416666666666]"
      ]
     },
     "metadata": {},
     "output_type": "display_data"
    },
    {
     "name": "stdout",
     "output_type": "stream",
     "text": [
      "STD\n"
     ]
    },
    {
     "data": {
      "text/plain": [
       "0.01363151284198167"
      ]
     },
     "metadata": {},
     "output_type": "display_data"
    },
    {
     "name": "stdout",
     "output_type": "stream",
     "text": [
      "MEAN\n"
     ]
    },
    {
     "data": {
      "text/plain": [
       "0.71354166666666674"
      ]
     },
     "metadata": {},
     "output_type": "display_data"
    }
   ],
   "source": [
    "mleResult = []\n",
    "for j in range(10):\n",
    "    correct = 0\n",
    "    guess = 0\n",
    "    np.random.shuffle(reqCols)\n",
    "    reqColTrain = reqCols[0:384]\n",
    "    reqColTest = reqCols[384:]\n",
    "    for (i,label) in zip(test_features,test_labels):\n",
    "        prob0 = mvg(mu0, covar0, i.reshape(3,1)) #test0/\n",
    "        prob1 = mvg(mu1, covar1, i.reshape(3,1)) #test1\n",
    "        if(prob0 > prob1):\n",
    "            guess = 0\n",
    "        elif(prob0 < prob1):\n",
    "            guess = 1\n",
    "        if(guess == label):\n",
    "            correct +=1\n",
    "        accuracy = correct /test_features.shape[0]\n",
    "    mleResult.append(accuracy)\n",
    "display(mleResult)\n",
    "accuracySTD = np.std(np.array(mleResult), axis = 0)\n",
    "print(\"STD\")\n",
    "display(accuracySTD)\n",
    "accuracyMean = np.mean(np.array(mleResult), axis=0)\n",
    "print(\"MEAN\")\n",
    "display(accuracyMean)\n"
   ]
  },
  {
   "cell_type": "markdown",
   "metadata": {},
   "source": [
    "## Naive Bayes"
   ]
  },
  {
   "attachments": {
    "image.png": {
     "image/png": "[encoded data removed]"
    }
   },
   "cell_type": "markdown",
   "metadata": {},
   "source": [
    "![image.png](attachment:image.png)"
   ]
  },
  {
   "cell_type": "code",
   "execution_count": 1015,
   "metadata": {},
   "outputs": [],
   "source": [
    "def gnb(mu, sig, x):\n",
    "    p1 = (1/math.sqrt(2*math.pi*(sig**2)))\n",
    "    p2 = (math.e**(-1*(((x-mu)**2)/(2*(sig**2)))))\n",
    "    prod = p1 * p2\n",
    "    return prod"
   ]
  },
  {
   "cell_type": "code",
   "execution_count": 1016,
   "metadata": {},
   "outputs": [],
   "source": [
    "#product of probability of each product given the class\n",
    "#get each class prob\n"
   ]
  },
  {
   "cell_type": "code",
   "execution_count": 1017,
   "metadata": {
    "scrolled": false
   },
   "outputs": [
    {
     "data": {
      "text/plain": [
       "[0.7291666666666666,\n",
       " 0.734375,\n",
       " 0.7369791666666666,\n",
       " 0.7317708333333334,\n",
       " 0.71875,\n",
       " 0.7447916666666666,\n",
       " 0.7265625,\n",
       " 0.7317708333333334,\n",
       " 0.7291666666666666,\n",
       " 0.7395833333333334]"
      ]
     },
     "metadata": {},
     "output_type": "display_data"
    },
    {
     "name": "stdout",
     "output_type": "stream",
     "text": [
      "STD GNB\n"
     ]
    },
    {
     "data": {
      "text/plain": [
       "0.0068702635199338093"
      ]
     },
     "metadata": {},
     "output_type": "display_data"
    },
    {
     "name": "stdout",
     "output_type": "stream",
     "text": [
      "MEAN GNB\n"
     ]
    },
    {
     "data": {
      "text/plain": [
       "0.73229166666666656"
      ]
     },
     "metadata": {},
     "output_type": "display_data"
    }
   ],
   "source": [
    "gnbResult = []\n",
    "for j in range(10):\n",
    "    correct = 0\n",
    "    guess = 0\n",
    "    np.random.shuffle(reqCols)\n",
    "    reqColTrain = reqCols[0:384] #first half of dataset\n",
    "    reqColTest = reqCols[384:] #second half of dataset\n",
    "\n",
    "    #class conditional means\n",
    "    for (i,label) in zip(test_features,test_labels):    \n",
    "#         print(label)\n",
    "#         print(test_labels)\n",
    "        prob0 = gnb(mu0,std0, i.reshape(3,1)) #test0 \n",
    "    \n",
    "        pd0 = np.prod(prob0) #prob0 is a array of arrays, so doing .prob multiplies all values together to obtain a scalar val\n",
    "      \n",
    "        probabiltyComparison0 = freq0 * pd0 #this is the multiple of the frequency of 0, by the probability of 0\n",
    "        \n",
    "        prob1 = gnb(mu1,std1, i.reshape(3,1)) #test1 \n",
    "        pd1 = np.prod(prob1)\n",
    "\n",
    "        probabilityComparison1 = freq1 * pd1\n",
    "        if(pd0> pd1):\n",
    "            guess = 0\n",
    "        elif(pd0 < pd1):\n",
    "            guess = 1\n",
    "        if(guess == label):\n",
    "            correct +=1\n",
    "        accuracy = correct/test_features.shape[0]\n",
    "    gnbResult.append(accuracy)\n",
    "display(gnbResult)\n",
    "accuracyStdGNB = np.std(np.array(gnbResult), axis = 0)\n",
    "print(\"STD GNB\")\n",
    "display(accuracyStdGNB)\n",
    "accuracyMeanGNB = np.mean(np.array(gnbResult), axis=0)\n",
    "print(\"MEAN GNB\")\n",
    "display(accuracyMeanGNB)\n"
   ]
  },
  {
   "cell_type": "markdown",
   "metadata": {},
   "source": [
    "### K-Nearest Neighbor"
   ]
  },
  {
   "cell_type": "code",
   "execution_count": 1019,
   "metadata": {},
   "outputs": [
    {
     "data": {
      "text/plain": [
       "0.65625"
      ]
     },
     "execution_count": 1019,
     "metadata": {},
     "output_type": "execute_result"
    }
   ],
   "source": [
    "tree = KDTree(train_features)\n",
    "n = 0\n",
    "predictions = []\n",
    "while n < len(train_features):\n",
    "    count1 = 0\n",
    "    count0 = 0\n",
    "    dist, ind = tree.query([test_features[n]], k=3)\n",
    "    i = 0\n",
    "    while i < len(ind):\n",
    "        neighborClass = train_labels[ind[0][i]]\n",
    "        if (neighborClass == 1):\n",
    "            count1 += 1\n",
    "        elif(neighborClass == 0):\n",
    "            count0 += 1\n",
    "        i += 1\n",
    "    if(count1 > count0):\n",
    "        predictions.append(1)\n",
    "    elif(count1 < count0):\n",
    "        predictions.append(0)\n",
    "    n += 1\n",
    "count = 0\n",
    "for i in test_labels:\n",
    "    if (test_labels[int(i)] == predictions[int(i)]):\n",
    "        count += 1\n",
    "    accuracyKNN = count/len(test_labels)\n",
    "accuracyKNN\n"
   ]
  },
  {
   "cell_type": "code",
   "execution_count": null,
   "metadata": {},
   "outputs": [],
   "source": []
  },
  {
   "cell_type": "code",
   "execution_count": null,
   "metadata": {},
   "outputs": [],
   "source": []
  },
  {
   "cell_type": "code",
   "execution_count": null,
   "metadata": {},
   "outputs": [],
   "source": []
  },
  {
   "cell_type": "code",
   "execution_count": null,
   "metadata": {},
   "outputs": [],
   "source": []
  },
  {
   "cell_type": "markdown",
   "metadata": {},
   "source": [
    "### Parzen Cubic Window"
   ]
  },
  {
   "cell_type": "code",
   "execution_count": null,
   "metadata": {},
   "outputs": [],
   "source": []
  },
  {
   "cell_type": "code",
   "execution_count": null,
   "metadata": {},
   "outputs": [],
   "source": []
  },
  {
   "cell_type": "code",
   "execution_count": null,
   "metadata": {},
   "outputs": [],
   "source": []
  },
  {
   "cell_type": "code",
   "execution_count": null,
   "metadata": {},
   "outputs": [],
   "source": [
    "# for prediction on sample s: create cube around s. S neighbors are data where distance from x's, y's, \n",
    "#and z's are within 10 each other\n",
    "# neighbors vote on class. "
   ]
  },
  {
   "cell_type": "code",
   "execution_count": null,
   "metadata": {},
   "outputs": [],
   "source": []
  }
 ],
 "metadata": {
  "kernelspec": {
   "display_name": "Python 3",
   "language": "python",
   "name": "python3"
  },
  "language_info": {
   "codemirror_mode": {
    "name": "ipython",
    "version": 3
   },
   "file_extension": ".py",
   "mimetype": "text/x-python",
   "name": "python",
   "nbconvert_exporter": "python",
   "pygments_lexer": "ipython3",
   "version": "3.5.2"
  }
 },
 "nbformat": 4,
 "nbformat_minor": 2
}
