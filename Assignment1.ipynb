{
 "cells": [
  {
   "cell_type": "code",
   "execution_count": 8,
   "metadata": {},
   "outputs": [],
   "source": [
    "import numpy as np\n",
    "import math"
   ]
  },
  {
   "cell_type": "code",
   "execution_count": 149,
   "metadata": {},
   "outputs": [],
   "source": [
    "#non custom input\n",
    "def observations():\n",
    "    N = [10, 100, 1000]\n",
    "    neat = np.random.normal(0, 1, (N[0], 1))        \n",
    "    neat1 = np.random.normal(0,1,(N[1], 1))\n",
    "    neat2 =np.random.normal(0,1,(N[2], 1))\n",
    "    #mean for 10\n",
    "    m1 = sum(neat) / 10\n",
    "    v1 = neat.var()\n",
    "    #mean for 100\n",
    "    m2 = sum(neat1) / 100\n",
    "    v2 = neat1.var()\n",
    "    #mean for 1000\n",
    "    m3 = sum(neat2) /1000\n",
    "    v3 = neat2.var()\n",
    "    print(m1)\n",
    "    print(v1)\n",
    "    print(m2)\n",
    "    print(v2)\n",
    "    print(m3)\n",
    "    print(v3)\n",
    "    "
   ]
  },
  {
   "cell_type": "code",
   "execution_count": 150,
   "metadata": {
    "scrolled": true
   },
   "outputs": [
    {
     "name": "stdout",
     "output_type": "stream",
     "text": [
      "[-0.17069967]\n",
      "0.893002265024\n",
      "[-0.23588851]\n",
      "0.961253755509\n",
      "[-0.02006156]\n",
      "1.02013567385\n"
     ]
    }
   ],
   "source": [
    "observations()"
   ]
  },
  {
   "cell_type": "code",
   "execution_count": 266,
   "metadata": {},
   "outputs": [],
   "source": [
    "def observations2(mean, var, N):\n",
    "    testboi = np.random.normal(mean, (var**.5), N)\n",
    "    print(testboi.mean())\n",
    "    print(testboi.var())\n",
    "    return(testboi)\n",
    "    "
   ]
  },
  {
   "cell_type": "code",
   "execution_count": 276,
   "metadata": {},
   "outputs": [
    {
     "name": "stdout",
     "output_type": "stream",
     "text": [
      "TESTBOI2 = mean = 1, var = 4, N = 2000\n",
      "TEST\n",
      "0.889939580487\n",
      "3.87322570275\n",
      "TESTBOI3 = mean =4, var = 9, N = 2000\n",
      "TEST\n",
      "3.96747838293\n",
      "9.14685067447\n",
      "X\n",
      "1.91578584797\n",
      "7.73582182233\n"
     ]
    }
   ],
   "source": [
    "print(\"TESTBOI2 = mean = 1, var = 4, N = 2000\")\n",
    "testboi2 = observations2(1,4,2000)\n",
    "print(\"TESTBOI3 = mean =4, var = 9, N = 1000\" )\n",
    "testboi3 = observations2(4,9,1000)\n",
    "\n",
    "x = newestArr = np.append(testboi2, testboi3)\n",
    "print(\"X\")\n",
    "print(x.mean())\n",
    "print(x.var())\n",
    "    "
   ]
  },
  {
   "cell_type": "code",
   "execution_count": 268,
   "metadata": {},
   "outputs": [
    {
     "name": "stdout",
     "output_type": "stream",
     "text": [
      "TEST\n",
      "1.00816846094\n",
      "3.98561337104\n"
     ]
    },
    {
     "data": {
      "text/plain": [
       "array([-0.29276191, -0.35444118,  2.17729637, ..., -0.56641279,\n",
       "       -1.30682203, -0.66872886])"
      ]
     },
     "execution_count": 268,
     "metadata": {},
     "output_type": "execute_result"
    }
   ],
   "source": [
    "observations2(1,4,2000)"
   ]
  },
  {
   "cell_type": "code",
   "execution_count": null,
   "metadata": {},
   "outputs": [],
   "source": []
  },
  {
   "cell_type": "code",
   "execution_count": null,
   "metadata": {},
   "outputs": [],
   "source": []
  },
  {
   "cell_type": "code",
   "execution_count": null,
   "metadata": {},
   "outputs": [],
   "source": []
  }
 ],
 "metadata": {
  "kernelspec": {
   "display_name": "Python 3",
   "language": "python",
   "name": "python3"
  },
  "language_info": {
   "codemirror_mode": {
    "name": "ipython",
    "version": 3
   },
   "file_extension": ".py",
   "mimetype": "text/x-python",
   "name": "python",
   "nbconvert_exporter": "python",
   "pygments_lexer": "ipython3",
   "version": "3.5.2"
  }
 },
 "nbformat": 4,
 "nbformat_minor": 2
}
